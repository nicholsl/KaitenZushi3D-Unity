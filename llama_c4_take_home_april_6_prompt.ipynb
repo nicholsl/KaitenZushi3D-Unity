{
  "cells": [
    {
      "cell_type": "markdown",
      "metadata": {
        "id": "view-in-github",
        "colab_type": "text"
      },
      "source": [
        "<a href=\"https://colab.research.google.com/github/nicholsl/KaitenZushi3D-Unity/blob/master/llama_c4_take_home_april_6_prompt.ipynb\" target=\"_parent\"><img src=\"https://colab.research.google.com/assets/colab-badge.svg\" alt=\"Open In Colab\"/></a>"
      ]
    },
    {
      "cell_type": "markdown",
      "source": [
        "# LLaMa C4 Pre Processing Take Home Assessment\n",
        "In late February 2023, Meta AI released [LLaMa](https://ai.facebook.com/blog/large-language-model-llama-meta-ai/). It comes in multiple model sizes, and introduced the key insight that bigger isn’t always better in terms of parameter counts. For a fixed compute budget, sometimes training a smaller model on more data can yield better results.\n",
        "\n",
        "The [paper](https://arxiv.org/abs/2302.13971) discusses the datasets they carefully curate to train each of these models, an excerpt below is from the discussion of C4, or Colossal Cleaned Common Crawl:\n",
        "\n",
        "> C4 [15%]. During exploratory experiments, we observed that using diverse pre-processed CommonCrawl datasets improves performance. We thus included the publicly available C4 dataset (Raffel et al., 2020) in our data. The preprocessing of C4 also ... [deduplicates the data at the line level, performs language identification with a fastText linear classifier to remove non-English pages]: the main difference with CCNet is the quality filtering, which mostly relies on heuristics such as presence of punctuation marks or the number of words and sentences in a webpage.\n",
        "\n",
        "While there is some level of ambiguity in the exact interpretation of these pre-processing instructions, for the purpose of this interview we will have the following assumptions:\n",
        "\n",
        "1. We will operate on only one small (~30MB / ~27K docs) shard of C4\n",
        "1. We should not include duplicate sentences from the same document.\n",
        "     - Duplicate defined as where all the words are the same in a sentence, regardless of whitespace, punctuation, capitalization, etc.\n",
        "1. For a simple heuristic on the number of sentences, let’s assume we do not want to keep sentences with fewer than 5 words, or more than 30.\n",
        "1. Use a [fastText classifier](https://fasttext.cc/docs/en/language-identification.html) to only keep English documents (>0.5 score).\n",
        "1. Drop the documents with the sentence count either below the 5th percentile, or above the 95th.\n",
        "\n",
        "Your objective is implement the C4 pre-processing task as described, including loading the C4 data (`c4-train.00000-of-00512.json.gz`), pre-processing the documents following the instructions above, and returning a variable containing the documents that should be trained over.\n",
        "\n",
        "Further notes:\n",
        "1. [nltk.tokenize](https://www.nltk.org/api/nltk.tokenize.html) has some useful tooling.\n",
        "1. You do not need to consult any further research papers such as LLaMa or CCNet for further information.\n",
        "1. You can make additional assumptions, but be sure to clearly document them.\n",
        "1. It may be useful to keep stats on causes why sentences/documents get dropped.\n",
        "1. There should be 26,953 documents in the shard."
      ],
      "metadata": {
        "id": "nnlB51wwfYLF"
      }
    },
    {
      "cell_type": "code",
      "execution_count": null,
      "metadata": {
        "id": "ar3SVDxs9rHl",
        "collapsed": true,
        "outputId": "bdb81ad4-ea90-47d1-9bb4-fda25e47d6b8",
        "colab": {
          "base_uri": "https://localhost:8080/"
        }
      },
      "outputs": [
        {
          "output_type": "stream",
          "name": "stdout",
          "text": [
            "Requirement already satisfied: nltk in /usr/local/lib/python3.10/dist-packages (3.8.1)\n",
            "Collecting fasttext\n",
            "  Downloading fasttext-0.9.2.tar.gz (68 kB)\n",
            "\u001b[2K     \u001b[90m━━━━━━━━━━━━━━━━━━━━━━━━━━━━━━━━━━━━━━━━\u001b[0m \u001b[32m68.8/68.8 kB\u001b[0m \u001b[31m1.6 MB/s\u001b[0m eta \u001b[36m0:00:00\u001b[0m\n",
            "\u001b[?25h  Preparing metadata (setup.py) ... \u001b[?25l\u001b[?25hdone\n",
            "Requirement already satisfied: click in /usr/local/lib/python3.10/dist-packages (from nltk) (8.1.7)\n",
            "Requirement already satisfied: joblib in /usr/local/lib/python3.10/dist-packages (from nltk) (1.4.2)\n",
            "Requirement already satisfied: regex>=2021.8.3 in /usr/local/lib/python3.10/dist-packages (from nltk) (2023.12.25)\n",
            "Requirement already satisfied: tqdm in /usr/local/lib/python3.10/dist-packages (from nltk) (4.66.4)\n",
            "Collecting pybind11>=2.2 (from fasttext)\n",
            "  Using cached pybind11-2.12.0-py3-none-any.whl (234 kB)\n",
            "Requirement already satisfied: setuptools>=0.7.0 in /usr/local/lib/python3.10/dist-packages (from fasttext) (67.7.2)\n",
            "Requirement already satisfied: numpy in /usr/local/lib/python3.10/dist-packages (from fasttext) (1.25.2)\n",
            "Building wheels for collected packages: fasttext\n"
          ]
        }
      ],
      "source": [
        "!pip install nltk fasttext\n",
        "!pip install nltk tokenize"
      ]
    },
    {
      "cell_type": "code",
      "execution_count": 2,
      "metadata": {
        "id": "j7PijVAxBo_Z",
        "collapsed": true,
        "outputId": "888ae6d6-9a51-4d3c-f95b-1d1733d64604",
        "colab": {
          "base_uri": "https://localhost:8080/"
        }
      },
      "outputs": [
        {
          "output_type": "stream",
          "name": "stdout",
          "text": [
            "--2024-05-21 03:39:09--  https://huggingface.co/datasets/allenai/c4/resolve/main/realnewslike/c4-train.00000-of-00512.json.gz\n",
            "Resolving huggingface.co (huggingface.co)... 18.154.227.67, 18.154.227.87, 18.154.227.7, ...\n",
            "Connecting to huggingface.co (huggingface.co)|18.154.227.67|:443... connected.\n",
            "HTTP request sent, awaiting response... 302 Found\n",
            "Location: https://cdn-lfs.huggingface.co/datasets/allenai/c4/6666a680b0a34eb8756dcb5fd2b12f0078237f3502e8a513bd3e5b71bb92be00?response-content-disposition=attachment%3B+filename*%3DUTF-8%27%27c4-train.00000-of-00512.json.gz%3B+filename%3D%22c4-train.00000-of-00512.json.gz%22%3B&response-content-type=application%2Fgzip&Expires=1716521949&Policy=eyJTdGF0ZW1lbnQiOlt7IkNvbmRpdGlvbiI6eyJEYXRlTGVzc1RoYW4iOnsiQVdTOkVwb2NoVGltZSI6MTcxNjUyMTk0OX19LCJSZXNvdXJjZSI6Imh0dHBzOi8vY2RuLWxmcy5odWdnaW5nZmFjZS5jby9kYXRhc2V0cy9hbGxlbmFpL2M0LzY2NjZhNjgwYjBhMzRlYjg3NTZkY2I1ZmQyYjEyZjAwNzgyMzdmMzUwMmU4YTUxM2JkM2U1YjcxYmI5MmJlMDA%7EcmVzcG9uc2UtY29udGVudC1kaXNwb3NpdGlvbj0qJnJlc3BvbnNlLWNvbnRlbnQtdHlwZT0qIn1dfQ__&Signature=yHuGEEUUpqYr0HMNsK1dfuVucRXoNltY12Bs07wrt%7EBctIFaND1C1FAgq5xkapPqAOAJTvjlDOMV1aBP7ZX6rwcz1kAKmnbxdS0veYrekuQ5pSNG0Gw0TqLjuu4rmyFcacL4NbBo3HeC31fTm-Wp%7EITrUE4-iqbWHrkoQ1lDrJ8fy9EpSOcLOiiJXsS726Zk9RmhFo5WaOJTKTjOPwmkpn8UcoAkvUWswMyRZwfXvmvZ7nFPbZ-9CtqZkd2BiXiCfR%7Evn4ltAn2QydmqupC0FyoNUFwXfR6hOQCHKRo8q7jDgM6-HsN5Ag1XbUcAYb42PpNj2OApbZmdpypJz2NmSQ__&Key-Pair-Id=KVTP0A1DKRTAX [following]\n",
            "--2024-05-21 03:39:09--  https://cdn-lfs.huggingface.co/datasets/allenai/c4/6666a680b0a34eb8756dcb5fd2b12f0078237f3502e8a513bd3e5b71bb92be00?response-content-disposition=attachment%3B+filename*%3DUTF-8%27%27c4-train.00000-of-00512.json.gz%3B+filename%3D%22c4-train.00000-of-00512.json.gz%22%3B&response-content-type=application%2Fgzip&Expires=1716521949&Policy=eyJTdGF0ZW1lbnQiOlt7IkNvbmRpdGlvbiI6eyJEYXRlTGVzc1RoYW4iOnsiQVdTOkVwb2NoVGltZSI6MTcxNjUyMTk0OX19LCJSZXNvdXJjZSI6Imh0dHBzOi8vY2RuLWxmcy5odWdnaW5nZmFjZS5jby9kYXRhc2V0cy9hbGxlbmFpL2M0LzY2NjZhNjgwYjBhMzRlYjg3NTZkY2I1ZmQyYjEyZjAwNzgyMzdmMzUwMmU4YTUxM2JkM2U1YjcxYmI5MmJlMDA%7EcmVzcG9uc2UtY29udGVudC1kaXNwb3NpdGlvbj0qJnJlc3BvbnNlLWNvbnRlbnQtdHlwZT0qIn1dfQ__&Signature=yHuGEEUUpqYr0HMNsK1dfuVucRXoNltY12Bs07wrt%7EBctIFaND1C1FAgq5xkapPqAOAJTvjlDOMV1aBP7ZX6rwcz1kAKmnbxdS0veYrekuQ5pSNG0Gw0TqLjuu4rmyFcacL4NbBo3HeC31fTm-Wp%7EITrUE4-iqbWHrkoQ1lDrJ8fy9EpSOcLOiiJXsS726Zk9RmhFo5WaOJTKTjOPwmkpn8UcoAkvUWswMyRZwfXvmvZ7nFPbZ-9CtqZkd2BiXiCfR%7Evn4ltAn2QydmqupC0FyoNUFwXfR6hOQCHKRo8q7jDgM6-HsN5Ag1XbUcAYb42PpNj2OApbZmdpypJz2NmSQ__&Key-Pair-Id=KVTP0A1DKRTAX\n",
            "Resolving cdn-lfs.huggingface.co (cdn-lfs.huggingface.co)... 108.138.64.111, 108.138.64.49, 108.138.64.36, ...\n",
            "Connecting to cdn-lfs.huggingface.co (cdn-lfs.huggingface.co)|108.138.64.111|:443... connected.\n",
            "HTTP request sent, awaiting response... 200 OK\n",
            "Length: 30085821 (29M) [application/gzip]\n",
            "Saving to: ‘c4-train.00000-of-00512.json.gz’\n",
            "\n",
            "c4-train.00000-of-0 100%[===================>]  28.69M  76.9MB/s    in 0.4s    \n",
            "\n",
            "2024-05-21 03:39:10 (76.9 MB/s) - ‘c4-train.00000-of-00512.json.gz’ saved [30085821/30085821]\n",
            "\n",
            "--2024-05-21 03:39:10--  https://dl.fbaipublicfiles.com/fasttext/supervised-models/lid.176.bin\n",
            "Resolving dl.fbaipublicfiles.com (dl.fbaipublicfiles.com)... 13.226.34.53, 13.226.34.122, 13.226.34.83, ...\n",
            "Connecting to dl.fbaipublicfiles.com (dl.fbaipublicfiles.com)|13.226.34.53|:443... connected.\n",
            "HTTP request sent, awaiting response... 200 OK\n",
            "Length: 131266198 (125M) [application/octet-stream]\n",
            "Saving to: ‘lid.176.bin’\n",
            "\n",
            "lid.176.bin         100%[===================>] 125.18M   161MB/s    in 0.8s    \n",
            "\n",
            "2024-05-21 03:39:11 (161 MB/s) - ‘lid.176.bin’ saved [131266198/131266198]\n",
            "\n"
          ]
        }
      ],
      "source": [
        "!wget https://huggingface.co/datasets/allenai/c4/resolve/main/realnewslike/c4-train.00000-of-00512.json.gz\n",
        "!wget https://dl.fbaipublicfiles.com/fasttext/supervised-models/lid.176.bin"
      ]
    },
    {
      "cell_type": "code",
      "source": [],
      "metadata": {
        "id": "xRis5zeRKybh"
      },
      "execution_count": null,
      "outputs": []
    }
  ],
  "metadata": {
    "colab": {
      "provenance": [],
      "include_colab_link": true
    },
    "gpuClass": "standard",
    "kernelspec": {
      "display_name": "Python 3",
      "name": "python3"
    },
    "language_info": {
      "name": "python"
    }
  },
  "nbformat": 4,
  "nbformat_minor": 0
}